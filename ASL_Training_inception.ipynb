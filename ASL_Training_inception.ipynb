{
  "nbformat": 4,
  "nbformat_minor": 0,
  "metadata": {
    "colab": {
      "provenance": [],
      "machine_shape": "hm"
    },
    "kernelspec": {
      "name": "python3",
      "display_name": "Python 3"
    },
    "language_info": {
      "name": "python"
    },
    "accelerator": "GPU",
    "gpuClass": "premium"
  },
  "cells": [
    {
      "cell_type": "code",
      "execution_count": null,
      "metadata": {
        "id": "XKjn9hil7slC",
        "colab": {
          "base_uri": "https://localhost:8080/"
        },
        "outputId": "d05ddd7b-0b51-4ae3-db6e-95a60b85b764"
      },
      "outputs": [
        {
          "output_type": "stream",
          "name": "stdout",
          "text": [
            "Mounted at /content/gdrive\n"
          ]
        }
      ],
      "source": [
        "from google.colab import drive\n",
        "drive.mount('/content/gdrive')"
      ]
    },
    {
      "cell_type": "code",
      "source": [
        "import tensorflow as tf\n"
      ],
      "metadata": {
        "id": "tzQnZa7p8pov"
      },
      "execution_count": null,
      "outputs": []
    },
    {
      "cell_type": "code",
      "source": [
        "print(\"--> Checking for physical Tensorflow devices\")\n",
        "for device in tf.config.list_physical_devices():\n",
        "    print(\": {}\".format(device.name))"
      ],
      "metadata": {
        "id": "KQADj-B68uF3",
        "colab": {
          "base_uri": "https://localhost:8080/"
        },
        "outputId": "6b6fbf12-889f-453f-9b31-6b67d98b207b"
      },
      "execution_count": null,
      "outputs": [
        {
          "output_type": "stream",
          "name": "stdout",
          "text": [
            "--> Checking for physical Tensorflow devices\n",
            ": /physical_device:CPU:0\n",
            ": /physical_device:GPU:0\n"
          ]
        }
      ]
    },
    {
      "cell_type": "code",
      "source": [
        "!unzip -q /content/gdrive/MyDrive/CMPE255_ASL_PROJECT/Data.zip"
      ],
      "metadata": {
        "id": "P0mXy_HG6WC8"
      },
      "execution_count": null,
      "outputs": []
    },
    {
      "cell_type": "code",
      "source": [
        "dataset_path = '/content/asl_alphabet_train/asl_alphabet_train'\n"
      ],
      "metadata": {
        "id": "VEryA-Sl8Y8N"
      },
      "execution_count": null,
      "outputs": []
    },
    {
      "cell_type": "code",
      "source": [
        "Efficientnet_b0 = 'https://tfhub.dev/google/efficientnet/b0/classification/1'\n"
      ],
      "metadata": {
        "id": "HDz8YofCRMNF"
      },
      "execution_count": null,
      "outputs": []
    },
    {
      "cell_type": "code",
      "source": [
        "import os\n",
        "import tensorflow_hub as hub\n",
        "import tensorflow as tf\n",
        "import pathlib\n",
        "import cv2\n",
        "from sklearn.utils import shuffle\n",
        "from tensorflow.keras import layers\n",
        "import numpy as np\n",
        "from tensorflow.keras.preprocessing.image import ImageDataGenerator\n",
        "import matplotlib.pyplot as plt"
      ],
      "metadata": {
        "id": "8d99fta6RQFq"
      },
      "execution_count": null,
      "outputs": []
    },
    {
      "cell_type": "code",
      "source": [],
      "metadata": {
        "id": "svDN9E-y7FsW"
      },
      "execution_count": null,
      "outputs": []
    },
    {
      "cell_type": "code",
      "source": [
        "train_data_generator = ImageDataGenerator(\n",
        "    rescale = 1./255,\n",
        "    rotation_range=40,\n",
        "    width_shift_range=0.2,\n",
        "    height_shift_range=0.2,\n",
        "    shear_range=0.2,\n",
        "    zoom_range=0.2,\n",
        "    horizontal_flip=True,\n",
        "    fill_mode='nearest',\n",
        "    validation_split = 0.2)\n",
        "\n",
        "test_data_generator = ImageDataGenerator(\n",
        "    rescale = 1./255,\n",
        "    validation_split = 0.2)"
      ],
      "metadata": {
        "id": "y3xO4XMz7Fvn"
      },
      "execution_count": null,
      "outputs": []
    },
    {
      "cell_type": "code",
      "source": [
        "# GPU setup\n",
        "batch_size = 32\n",
        "img_height = 224\n",
        "img_width = 224\n",
        "train_data = train_data_generator.flow_from_directory(\n",
        "    dataset_path,\n",
        "    target_size = (img_width, img_height),\n",
        "    batch_size = batch_size,\n",
        "    class_mode = 'categorical',\n",
        "    subset = 'training')\n",
        "\n",
        "val_data = test_data_generator.flow_from_directory(\n",
        "    dataset_path,\n",
        "    target_size = (img_width, img_height),\n",
        "    batch_size = batch_size,\n",
        "    class_mode='categorical',\n",
        "    subset = 'validation')"
      ],
      "metadata": {
        "id": "mmrcFhT57Fx4"
      },
      "execution_count": null,
      "outputs": []
    },
    {
      "cell_type": "markdown",
      "source": [
        "## Efficientnet_b0"
      ],
      "metadata": {
        "id": "_so4X9LGkdau"
      }
    },
    {
      "cell_type": "code",
      "source": [
        "Efficientnet_b0 = 'https://tfhub.dev/google/efficientnet/b0/classification/1'\n"
      ],
      "metadata": {
        "id": "4blyoattRpCJ"
      },
      "execution_count": null,
      "outputs": []
    },
    {
      "cell_type": "code",
      "source": [],
      "metadata": {
        "id": "y2tUMtvEYdPs"
      },
      "execution_count": null,
      "outputs": []
    },
    {
      "cell_type": "code",
      "source": [
        "model_Efficientnet = tf.keras.Sequential([\n",
        "    hub.KerasLayer(Efficientnet_b0, input_shape = (224,224,3), name = 'Efficientnet_b0'),\n",
        "\n",
        "    tf.keras.layers.Dense(512, activation=\"relu\"),\n",
        "    tf.keras.layers.Dropout(0.5),\n",
        "    tf.keras.layers.Dense(29, activation = 'softmax', name = 'Output_layer')\n",
        "])\n",
        "\n"
      ],
      "metadata": {
        "id": "6yrRxEmjRVuf"
      },
      "execution_count": null,
      "outputs": []
    },
    {
      "cell_type": "code",
      "source": [],
      "metadata": {
        "id": "7t2XP0KEglC_"
      },
      "execution_count": null,
      "outputs": []
    },
    {
      "cell_type": "code",
      "source": [
        "model_Efficientnet.trainable = True"
      ],
      "metadata": {
        "id": "5ttq4wcFdYzJ"
      },
      "execution_count": null,
      "outputs": []
    },
    {
      "cell_type": "code",
      "source": [
        "model_Efficientnet.compile(\n",
        "    optimizer = tf.keras.optimizers.Adam(),\n",
        "    loss = tf.keras.losses.CategoricalCrossentropy(),\n",
        "    metrics = ['accuracy']\n",
        ")"
      ],
      "metadata": {
        "id": "2f-zN5KQg80K"
      },
      "execution_count": null,
      "outputs": []
    },
    {
      "cell_type": "code",
      "source": [
        "model_Efficientnet.summary()"
      ],
      "metadata": {
        "id": "GFWeL9CPdeZl"
      },
      "execution_count": null,
      "outputs": []
    },
    {
      "cell_type": "code",
      "source": [
        "efficientnet_model = model_Efficientnet.fit(train_data, epochs = 25, verbose = 1, validation_data=val_data)\n"
      ],
      "metadata": {
        "id": "oCU_0eo27a59"
      },
      "execution_count": null,
      "outputs": []
    },
    {
      "cell_type": "code",
      "source": [
        "def plot_history(history, metric, val_metric):\n",
        "  acc = history.history[metric]\n",
        "  val_acc = history.history[val_metric]\n",
        "\n",
        "  loss=history.history['loss']\n",
        "  val_loss=history.history['val_loss']\n",
        "\n",
        "  epochs_range = range(len(acc))\n",
        "\n",
        "  fig=plt.figure(figsize=(12, 8))\n",
        "  plt.subplot(1, 2, 1)\n",
        "  plt.plot(epochs_range, acc, label='Training Accuracy')\n",
        "  plt.plot(epochs_range, val_acc, label='Validation Accuracy')\n",
        "  plt.legend(loc='lower right')\n",
        "  plt.ylim([min(plt.ylim()),1])\n",
        "  plt.grid(True)\n",
        "  plt.title('Training and Validation Accuracy')\n",
        "\n",
        "  plt.subplot(1, 2, 2)\n",
        "  plt.plot(epochs_range, loss, label='Training Loss')\n",
        "  plt.plot(epochs_range, val_loss, label='Validation Loss')\n",
        "  plt.legend(loc='upper right')\n",
        "  plt.grid(True)\n",
        "  plt.title('Training and Validation Loss')\n",
        "  plt.show()\n",
        "  fig.savefig('traininghistory.pdf')\n",
        "\n"
      ],
      "metadata": {
        "id": "oR4n_VnE7a8f"
      },
      "execution_count": null,
      "outputs": []
    },
    {
      "cell_type": "code",
      "source": [
        "plot_history(efficientnet_model, 'accuracy', 'val_accuracy')"
      ],
      "metadata": {
        "id": "hIaGf5IvhGe4"
      },
      "execution_count": null,
      "outputs": []
    },
    {
      "cell_type": "code",
      "source": [
        "model_Efficientnet.save('/content/gdrive/MyDrive/CMPE255_ASL_PROJECT/Efficientnet_model_new.h5')"
      ],
      "metadata": {
        "id": "cS5udjQ5At_z"
      },
      "execution_count": null,
      "outputs": []
    },
    {
      "cell_type": "code",
      "source": [
        "from tensorflow.keras.models import load_model"
      ],
      "metadata": {
        "id": "IFB3CvVCLtA8"
      },
      "execution_count": null,
      "outputs": []
    },
    {
      "cell_type": "code",
      "source": [
        "# model_Efficientnet = load_model('/content/gdrive/MyDrive/CMPE255_ASL_PROJECT/Efficientnet_model.h5', custom_objects={'KerasLayer':hub.KerasLayer})"
      ],
      "metadata": {
        "id": "iDHQpS8Medj0"
      },
      "execution_count": null,
      "outputs": []
    },
    {
      "cell_type": "code",
      "source": [
        "# efficientnet_model = model_Efficientnet.fit(train_data, epochs = 1, verbose = 1, validation_data=val_data)\n"
      ],
      "metadata": {
        "id": "bYWQdkZeL0kU"
      },
      "execution_count": null,
      "outputs": []
    },
    {
      "cell_type": "code",
      "source": [
        "# model_Efficientnet = load_model('/content/gdrive/MyDrive/CMPE255_ASL_PROJECT/Efficientnet_model.h5', custom_objects={'KerasLayer':hub.KerasLayer})\n",
        "\n"
      ],
      "metadata": {
        "id": "SSEanXY5SQpG"
      },
      "execution_count": null,
      "outputs": []
    },
    {
      "cell_type": "markdown",
      "source": [
        "## Inception ResNet V2"
      ],
      "metadata": {
        "id": "WtxNLgmbaXZf"
      }
    },
    {
      "cell_type": "code",
      "source": [
        "inceptionResNetV2 = 'https://tfhub.dev/google/imagenet/inception_resnet_v2/classification/5'"
      ],
      "metadata": {
        "id": "EIKMiRQbacy9"
      },
      "execution_count": null,
      "outputs": []
    },
    {
      "cell_type": "code",
      "source": [
        "model_inceptionResNetV2 = tf.keras.Sequential([\n",
        "    hub.KerasLayer(inceptionResNetV2, input_shape = (224,224,3),\n",
        "               trainable=True, arguments=dict(batch_norm_momentum=0.997), name = 'inceptionResNetV2_layer'),\n",
        "    tf.keras.layers.Flatten(),\n",
        "    tf.keras.layers.Dense(29, activation = 'softmax', name = 'Output_layer')\n",
        "])\n",
        "\n",
        "model_inceptionResNetV2.compile(\n",
        "    optimizer = tf.keras.optimizers.Adam(),\n",
        "    loss = tf.keras.losses.CategoricalCrossentropy(),\n",
        "    metrics = ['accuracy']\n",
        ")"
      ],
      "metadata": {
        "id": "Lm9fvyK1am8e"
      },
      "execution_count": null,
      "outputs": []
    },
    {
      "cell_type": "code",
      "source": [
        "model_inceptionResNetV2.summary()"
      ],
      "metadata": {
        "id": "nTlvJVMsam_-"
      },
      "execution_count": null,
      "outputs": []
    },
    {
      "cell_type": "code",
      "source": [
        "inceptionResNetV2_model = model_inceptionResNetV2.fit(train_data, epochs = 25, verbose = 1, validation_data=val_data)\n"
      ],
      "metadata": {
        "id": "vDMMsJ0DanC3"
      },
      "execution_count": null,
      "outputs": []
    },
    {
      "cell_type": "code",
      "source": [
        "model_inceptionResNetV2.save('/content/gdrive/MyDrive/CMPE255_ASL_PROJECT/model_inceptionResNetV2.h5')"
      ],
      "metadata": {
        "id": "K3rsKUA_kinq"
      },
      "execution_count": null,
      "outputs": []
    },
    {
      "cell_type": "code",
      "source": [],
      "metadata": {
        "id": "dUUEas9vkiqG"
      },
      "execution_count": null,
      "outputs": []
    },
    {
      "cell_type": "code",
      "source": [
        "plot_history(inceptionResNetV2_model, 'accuracy', 'val_accuracy')"
      ],
      "metadata": {
        "id": "0F9Hxd1Ekise"
      },
      "execution_count": null,
      "outputs": []
    }
  ]
}