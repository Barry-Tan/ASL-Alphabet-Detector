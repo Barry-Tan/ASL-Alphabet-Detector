{
  "cells": [
    {
      "cell_type": "code",
      "execution_count": 1,
      "metadata": {
        "colab": {
          "base_uri": "https://localhost:8080/"
        },
        "id": "XKjn9hil7slC",
        "outputId": "d05ddd7b-0b51-4ae3-db6e-95a60b85b764"
      },
      "outputs": [
        {
          "ename": "ModuleNotFoundError",
          "evalue": "No module named 'google.colab'",
          "output_type": "error",
          "traceback": [
            "\u001b[0;31m---------------------------------------------------------------------------\u001b[0m",
            "\u001b[0;31mModuleNotFoundError\u001b[0m                       Traceback (most recent call last)",
            "\u001b[0;32m/var/folders/zj/cjnnn8695qx8mqcc36hww0y80000gp/T/ipykernel_18752/1050275017.py\u001b[0m in \u001b[0;36m<module>\u001b[0;34m\u001b[0m\n\u001b[0;32m----> 1\u001b[0;31m \u001b[0;32mfrom\u001b[0m \u001b[0mgoogle\u001b[0m\u001b[0;34m.\u001b[0m\u001b[0mcolab\u001b[0m \u001b[0;32mimport\u001b[0m \u001b[0mdrive\u001b[0m\u001b[0;34m\u001b[0m\u001b[0;34m\u001b[0m\u001b[0m\n\u001b[0m\u001b[1;32m      2\u001b[0m \u001b[0mdrive\u001b[0m\u001b[0;34m.\u001b[0m\u001b[0mmount\u001b[0m\u001b[0;34m(\u001b[0m\u001b[0;34m'/content/gdrive'\u001b[0m\u001b[0;34m)\u001b[0m\u001b[0;34m\u001b[0m\u001b[0;34m\u001b[0m\u001b[0m\n",
            "\u001b[0;31mModuleNotFoundError\u001b[0m: No module named 'google.colab'"
          ]
        }
      ],
      "source": [
        "from google.colab import drive\n",
        "drive.mount('/content/gdrive')"
      ]
    },
    {
      "cell_type": "code",
      "execution_count": null,
      "metadata": {
        "id": "tzQnZa7p8pov"
      },
      "outputs": [],
      "source": [
        "import tensorflow as tf\n"
      ]
    },
    {
      "cell_type": "code",
      "execution_count": null,
      "metadata": {
        "colab": {
          "base_uri": "https://localhost:8080/"
        },
        "id": "KQADj-B68uF3",
        "outputId": "6b6fbf12-889f-453f-9b31-6b67d98b207b"
      },
      "outputs": [
        {
          "name": "stdout",
          "output_type": "stream",
          "text": [
            "--> Checking for physical Tensorflow devices\n",
            ": /physical_device:CPU:0\n",
            ": /physical_device:GPU:0\n"
          ]
        }
      ],
      "source": [
        "print(\"--> Checking for physical Tensorflow devices\")\n",
        "for device in tf.config.list_physical_devices():\n",
        "    print(\": {}\".format(device.name))"
      ]
    },
    {
      "cell_type": "code",
      "execution_count": null,
      "metadata": {
        "id": "P0mXy_HG6WC8"
      },
      "outputs": [],
      "source": [
        "!unzip -q /content/gdrive/MyDrive/CMPE255_ASL_PROJECT/Data.zip"
      ]
    },
    {
      "cell_type": "code",
      "execution_count": null,
      "metadata": {
        "id": "VEryA-Sl8Y8N"
      },
      "outputs": [],
      "source": [
        "dataset_path = '/content/asl_alphabet_train/asl_alphabet_train'\n"
      ]
    },
    {
      "cell_type": "code",
      "execution_count": null,
      "metadata": {
        "id": "HDz8YofCRMNF"
      },
      "outputs": [],
      "source": [
        "Efficientnet_b0 = 'https://tfhub.dev/google/efficientnet/b0/classification/1'\n"
      ]
    },
    {
      "cell_type": "code",
      "execution_count": null,
      "metadata": {
        "id": "8d99fta6RQFq"
      },
      "outputs": [],
      "source": [
        "import os\n",
        "import tensorflow_hub as hub\n",
        "import tensorflow as tf\n",
        "import pathlib\n",
        "import cv2\n",
        "from sklearn.utils import shuffle\n",
        "from tensorflow.keras import layers\n",
        "import numpy as np\n",
        "from tensorflow.keras.preprocessing.image import ImageDataGenerator\n",
        "import matplotlib.pyplot as plt"
      ]
    },
    {
      "cell_type": "code",
      "execution_count": null,
      "metadata": {
        "id": "svDN9E-y7FsW"
      },
      "outputs": [],
      "source": []
    },
    {
      "cell_type": "code",
      "execution_count": null,
      "metadata": {
        "id": "y3xO4XMz7Fvn"
      },
      "outputs": [],
      "source": [
        "train_data_generator = ImageDataGenerator(\n",
        "    rescale = 1./255,\n",
        "    rotation_range=10,\n",
        "    width_shift_range=0.2,\n",
        "    height_shift_range=0.2,\n",
        "    shear_range=0.2,\n",
        "    zoom_range=0.2,\n",
        "    horizontal_flip=True,\n",
        "    fill_mode='nearest',\n",
        "    validation_split = 0.2)\n",
        "\n",
        "test_data_generator = ImageDataGenerator(\n",
        "    rescale = 1./255,\n",
        "    validation_split = 0.2)"
      ]
    },
    {
      "cell_type": "code",
      "execution_count": null,
      "metadata": {
        "id": "mmrcFhT57Fx4"
      },
      "outputs": [],
      "source": [
        "# GPU setup\n",
        "batch_size = 32\n",
        "img_height = 224\n",
        "img_width = 224\n",
        "train_data = train_data_generator.flow_from_directory(\n",
        "    dataset_path,\n",
        "    target_size = (img_width, img_height),\n",
        "    batch_size = batch_size,\n",
        "    class_mode = 'categorical',\n",
        "    subset = 'training')\n",
        "\n",
        "val_data = test_data_generator.flow_from_directory(\n",
        "    dataset_path,\n",
        "    target_size = (img_width, img_height),\n",
        "    batch_size = batch_size,\n",
        "    class_mode='categorical',\n",
        "    subset = 'validation')"
      ]
    },
    {
      "cell_type": "markdown",
      "metadata": {
        "id": "_so4X9LGkdau"
      },
      "source": [
        "## Efficientnet_b0"
      ]
    },
    {
      "cell_type": "code",
      "execution_count": null,
      "metadata": {
        "id": "4blyoattRpCJ"
      },
      "outputs": [],
      "source": [
        "Efficientnet_b0 = 'https://tfhub.dev/google/efficientnet/b0/classification/1'\n"
      ]
    },
    {
      "cell_type": "code",
      "execution_count": null,
      "metadata": {
        "id": "y2tUMtvEYdPs"
      },
      "outputs": [],
      "source": []
    },
    {
      "cell_type": "code",
      "execution_count": null,
      "metadata": {
        "id": "6yrRxEmjRVuf"
      },
      "outputs": [],
      "source": [
        "model_Efficientnet = tf.keras.Sequential([\n",
        "    hub.KerasLayer(Efficientnet_b0, input_shape = (224,224,3), name = 'Efficientnet_b0'),\n",
        "\n",
        "    tf.keras.layers.Dense(512, activation=\"relu\"),\n",
        "    tf.keras.layers.Dropout(0.5),\n",
        "    tf.keras.layers.Dense(29, activation = 'softmax', name = 'Output_layer')\n",
        "])\n",
        "\n"
      ]
    },
    {
      "cell_type": "code",
      "execution_count": null,
      "metadata": {
        "id": "7t2XP0KEglC_"
      },
      "outputs": [],
      "source": []
    },
    {
      "cell_type": "code",
      "execution_count": null,
      "metadata": {
        "id": "5ttq4wcFdYzJ"
      },
      "outputs": [],
      "source": [
        "# model_Efficientnet.trainable = True"
      ]
    },
    {
      "cell_type": "code",
      "execution_count": null,
      "metadata": {
        "id": "2f-zN5KQg80K"
      },
      "outputs": [],
      "source": [
        "model_Efficientnet.compile(\n",
        "    optimizer = tf.keras.optimizers.Adam(),\n",
        "    loss = tf.keras.losses.CategoricalCrossentropy(),\n",
        "    metrics = ['accuracy']\n",
        ")"
      ]
    },
    {
      "cell_type": "code",
      "execution_count": null,
      "metadata": {
        "id": "GFWeL9CPdeZl"
      },
      "outputs": [],
      "source": [
        "model_Efficientnet.summary()"
      ]
    },
    {
      "cell_type": "code",
      "execution_count": null,
      "metadata": {
        "id": "oCU_0eo27a59"
      },
      "outputs": [],
      "source": [
        "efficientnet_model = model_Efficientnet.fit(train_data, epochs = 25, verbose = 1, validation_data=val_data)\n"
      ]
    },
    {
      "cell_type": "code",
      "execution_count": null,
      "metadata": {
        "id": "oR4n_VnE7a8f"
      },
      "outputs": [],
      "source": [
        "def plot_history(history, metric, val_metric):\n",
        "  acc = history.history[metric]\n",
        "  val_acc = history.history[val_metric]\n",
        "\n",
        "  loss=history.history['loss']\n",
        "  val_loss=history.history['val_loss']\n",
        "\n",
        "  epochs_range = range(len(acc))\n",
        "\n",
        "  fig=plt.figure(figsize=(12, 8))\n",
        "  plt.subplot(1, 2, 1)\n",
        "  plt.plot(epochs_range, acc, label='Training Accuracy')\n",
        "  plt.plot(epochs_range, val_acc, label='Validation Accuracy')\n",
        "  plt.legend(loc='lower right')\n",
        "  plt.ylim([min(plt.ylim()),1])\n",
        "  plt.grid(True)\n",
        "  plt.title('Training and Validation Accuracy')\n",
        "\n",
        "  plt.subplot(1, 2, 2)\n",
        "  plt.plot(epochs_range, loss, label='Training Loss')\n",
        "  plt.plot(epochs_range, val_loss, label='Validation Loss')\n",
        "  plt.legend(loc='upper right')\n",
        "  plt.grid(True)\n",
        "  plt.title('Training and Validation Loss')\n",
        "  plt.show()\n",
        "  fig.savefig('traininghistory.pdf')\n",
        "\n"
      ]
    },
    {
      "cell_type": "code",
      "execution_count": null,
      "metadata": {
        "id": "hIaGf5IvhGe4"
      },
      "outputs": [],
      "source": [
        "plot_history(efficientnet_model, 'accuracy', 'val_accuracy')"
      ]
    },
    {
      "cell_type": "code",
      "execution_count": null,
      "metadata": {
        "id": "cS5udjQ5At_z"
      },
      "outputs": [],
      "source": [
        "model_Efficientnet.save('/content/gdrive/MyDrive/CMPE255_ASL_PROJECT/Efficientnet_model_new2.h5')"
      ]
    },
    {
      "cell_type": "code",
      "execution_count": null,
      "metadata": {
        "id": "IFB3CvVCLtA8"
      },
      "outputs": [],
      "source": [
        "from tensorflow.keras.models import load_model"
      ]
    },
    {
      "cell_type": "code",
      "execution_count": null,
      "metadata": {
        "id": "iDHQpS8Medj0"
      },
      "outputs": [],
      "source": [
        "# model_Efficientnet = load_model('/content/gdrive/MyDrive/CMPE255_ASL_PROJECT/Efficientnet_model.h5', custom_objects={'KerasLayer':hub.KerasLayer})"
      ]
    },
    {
      "cell_type": "code",
      "execution_count": null,
      "metadata": {
        "id": "bYWQdkZeL0kU"
      },
      "outputs": [],
      "source": [
        "# efficientnet_model = model_Efficientnet.fit(train_data, epochs = 1, verbose = 1, validation_data=val_data)\n"
      ]
    },
    {
      "cell_type": "code",
      "execution_count": null,
      "metadata": {
        "id": "SSEanXY5SQpG"
      },
      "outputs": [],
      "source": [
        "# model_Efficientnet = load_model('/content/gdrive/MyDrive/CMPE255_ASL_PROJECT/Efficientnet_model.h5', custom_objects={'KerasLayer':hub.KerasLayer})\n",
        "\n"
      ]
    },
    {
      "cell_type": "markdown",
      "metadata": {
        "id": "WtxNLgmbaXZf"
      },
      "source": [
        "## Inception ResNet V2"
      ]
    },
    {
      "cell_type": "code",
      "execution_count": null,
      "metadata": {
        "id": "EIKMiRQbacy9"
      },
      "outputs": [],
      "source": [
        "inceptionResNetV2 = 'https://tfhub.dev/google/imagenet/inception_resnet_v2/classification/5'"
      ]
    },
    {
      "cell_type": "code",
      "execution_count": null,
      "metadata": {
        "id": "Lm9fvyK1am8e"
      },
      "outputs": [],
      "source": [
        "model_inceptionResNetV2 = tf.keras.Sequential([\n",
        "    hub.KerasLayer(inceptionResNetV2, input_shape = (224,224,3),\n",
        "               trainable=True, arguments=dict(batch_norm_momentum=0.997), name = 'inceptionResNetV2_layer'),\n",
        "    tf.keras.layers.Flatten(),\n",
        "    tf.keras.layers.Dense(29, activation = 'softmax', name = 'Output_layer')\n",
        "])\n",
        "\n",
        "model_inceptionResNetV2.compile(\n",
        "    optimizer = tf.keras.optimizers.Adam(),\n",
        "    loss = tf.keras.losses.CategoricalCrossentropy(),\n",
        "    metrics = ['accuracy']\n",
        ")"
      ]
    },
    {
      "cell_type": "code",
      "execution_count": null,
      "metadata": {
        "id": "nTlvJVMsam_-"
      },
      "outputs": [],
      "source": [
        "model_inceptionResNetV2.summary()"
      ]
    },
    {
      "cell_type": "code",
      "execution_count": null,
      "metadata": {
        "id": "vDMMsJ0DanC3"
      },
      "outputs": [],
      "source": [
        "inceptionResNetV2_model = model_inceptionResNetV2.fit(train_data, epochs = 25, verbose = 1, validation_data=val_data)\n"
      ]
    },
    {
      "cell_type": "code",
      "execution_count": null,
      "metadata": {
        "id": "K3rsKUA_kinq"
      },
      "outputs": [],
      "source": [
        "model_inceptionResNetV2.save('/content/gdrive/MyDrive/CMPE255_ASL_PROJECT/model_inceptionResNetV2.h5')"
      ]
    },
    {
      "cell_type": "code",
      "execution_count": null,
      "metadata": {
        "id": "dUUEas9vkiqG"
      },
      "outputs": [],
      "source": []
    },
    {
      "cell_type": "code",
      "execution_count": null,
      "metadata": {
        "id": "0F9Hxd1Ekise"
      },
      "outputs": [],
      "source": [
        "plot_history(inceptionResNetV2_model, 'accuracy', 'val_accuracy')"
      ]
    }
  ],
  "metadata": {
    "accelerator": "GPU",
    "colab": {
      "machine_shape": "hm",
      "provenance": []
    },
    "gpuClass": "premium",
    "kernelspec": {
      "display_name": "Python 3.9.7 ('base')",
      "language": "python",
      "name": "python3"
    },
    "language_info": {
      "codemirror_mode": {
        "name": "ipython",
        "version": 3
      },
      "file_extension": ".py",
      "mimetype": "text/x-python",
      "name": "python",
      "nbconvert_exporter": "python",
      "pygments_lexer": "ipython3",
      "version": "3.9.7"
    },
    "vscode": {
      "interpreter": {
        "hash": "40d3a090f54c6569ab1632332b64b2c03c39dcf918b08424e98f38b5ae0af88f"
      }
    }
  },
  "nbformat": 4,
  "nbformat_minor": 0
}
