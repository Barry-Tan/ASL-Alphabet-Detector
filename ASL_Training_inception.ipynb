{
  "cells": [
    {
      "cell_type": "code",
      "execution_count": 1,
      "metadata": {
        "colab": {
          "base_uri": "https://localhost:8080/"
        },
        "id": "XKjn9hil7slC",
        "outputId": "ea3704ff-9c72-49b8-a768-816dc444feb7"
      },
      "outputs": [
        {
          "output_type": "stream",
          "name": "stdout",
          "text": [
            "Mounted at /content/gdrive\n"
          ]
        }
      ],
      "source": [
        "from google.colab import drive\n",
        "drive.mount('/content/gdrive')"
      ]
    },
    {
      "cell_type": "code",
      "execution_count": 2,
      "metadata": {
        "id": "tzQnZa7p8pov"
      },
      "outputs": [],
      "source": [
        "import tensorflow as tf\n"
      ]
    },
    {
      "cell_type": "code",
      "execution_count": 3,
      "metadata": {
        "colab": {
          "base_uri": "https://localhost:8080/"
        },
        "id": "KQADj-B68uF3",
        "outputId": "6d6b3952-2d21-43f9-f0c9-2cad36b77ce8"
      },
      "outputs": [
        {
          "output_type": "stream",
          "name": "stdout",
          "text": [
            "--> Checking for physical Tensorflow devices\n",
            ": /physical_device:CPU:0\n",
            ": /physical_device:GPU:0\n"
          ]
        }
      ],
      "source": [
        "print(\"--> Checking for physical Tensorflow devices\")\n",
        "for device in tf.config.list_physical_devices():\n",
        "    print(\": {}\".format(device.name))"
      ]
    },
    {
      "cell_type": "code",
      "execution_count": 4,
      "metadata": {
        "id": "P0mXy_HG6WC8"
      },
      "outputs": [],
      "source": [
        "!unzip -q /content/gdrive/MyDrive/CMPE255_ASL_PROJECT/Data.zip"
      ]
    },
    {
      "cell_type": "code",
      "execution_count": 5,
      "metadata": {
        "id": "VEryA-Sl8Y8N"
      },
      "outputs": [],
      "source": [
        "dataset_path = '/content/asl_alphabet_train/asl_alphabet_train'\n"
      ]
    },
    {
      "cell_type": "code",
      "execution_count": null,
      "metadata": {
        "id": "HDz8YofCRMNF"
      },
      "outputs": [],
      "source": [
        "Efficientnet_b0 = 'https://tfhub.dev/google/efficientnet/b0/classification/1'\n"
      ]
    },
    {
      "cell_type": "code",
      "execution_count": 6,
      "metadata": {
        "id": "8d99fta6RQFq"
      },
      "outputs": [],
      "source": [
        "import os\n",
        "import tensorflow_hub as hub\n",
        "import tensorflow as tf\n",
        "import pathlib\n",
        "import cv2\n",
        "from sklearn.utils import shuffle\n",
        "from tensorflow.keras import layers\n",
        "import numpy as np\n",
        "from tensorflow.keras.preprocessing.image import ImageDataGenerator\n",
        "import matplotlib.pyplot as plt"
      ]
    },
    {
      "cell_type": "code",
      "execution_count": null,
      "metadata": {
        "id": "svDN9E-y7FsW"
      },
      "outputs": [],
      "source": []
    },
    {
      "cell_type": "code",
      "execution_count": 7,
      "metadata": {
        "id": "y3xO4XMz7Fvn"
      },
      "outputs": [],
      "source": [
        "train_data_generator = ImageDataGenerator(\n",
        "    rescale = 1./255,\n",
        "    rotation_range=10,\n",
        "    width_shift_range=0.2,\n",
        "    height_shift_range=0.2,\n",
        "    shear_range=0.2,\n",
        "    zoom_range=0.2,\n",
        "    horizontal_flip=True,\n",
        "    fill_mode='nearest',\n",
        "    validation_split = 0.2)\n",
        "\n",
        "test_data_generator = ImageDataGenerator(\n",
        "    rescale = 1./255,\n",
        "    validation_split = 0.2)"
      ]
    },
    {
      "cell_type": "code",
      "execution_count": 8,
      "metadata": {
        "colab": {
          "base_uri": "https://localhost:8080/"
        },
        "id": "mmrcFhT57Fx4",
        "outputId": "4c01d262-56f2-4be4-823b-b6d1bec647a2"
      },
      "outputs": [
        {
          "output_type": "stream",
          "name": "stdout",
          "text": [
            "Found 69600 images belonging to 29 classes.\n",
            "Found 17400 images belonging to 29 classes.\n"
          ]
        }
      ],
      "source": [
        "# GPU setup\n",
        "batch_size = 32\n",
        "img_height = 224\n",
        "img_width = 224\n",
        "train_data = train_data_generator.flow_from_directory(\n",
        "    dataset_path,\n",
        "    target_size = (img_width, img_height),\n",
        "    batch_size = batch_size,\n",
        "    class_mode = 'categorical',\n",
        "    subset = 'training')\n",
        "\n",
        "val_data = test_data_generator.flow_from_directory(\n",
        "    dataset_path,\n",
        "    target_size = (img_width, img_height),\n",
        "    batch_size = batch_size,\n",
        "    class_mode='categorical',\n",
        "    subset = 'validation')"
      ]
    },
    {
      "cell_type": "markdown",
      "metadata": {
        "id": "_so4X9LGkdau"
      },
      "source": [
        "## Efficientnet_b0"
      ]
    },
    {
      "cell_type": "code",
      "execution_count": null,
      "metadata": {
        "id": "4blyoattRpCJ"
      },
      "outputs": [],
      "source": [
        "Efficientnet_b0 = 'https://tfhub.dev/google/efficientnet/b0/classification/1'\n"
      ]
    },
    {
      "cell_type": "code",
      "execution_count": null,
      "metadata": {
        "id": "6yrRxEmjRVuf"
      },
      "outputs": [],
      "source": [
        "model_Efficientnet = tf.keras.Sequential([\n",
        "    hub.KerasLayer(Efficientnet_b0, input_shape = (224,224,3), name = 'Efficientnet_b0'),\n",
        "\n",
        "    tf.keras.layers.Dense(512, activation=\"relu\"),\n",
        "    tf.keras.layers.Dropout(0.5),\n",
        "    tf.keras.layers.Dense(29, activation = 'softmax', name = 'Output_layer')\n",
        "])\n",
        "\n"
      ]
    },
    {
      "cell_type": "code",
      "execution_count": null,
      "metadata": {
        "id": "5ttq4wcFdYzJ"
      },
      "outputs": [],
      "source": [
        "#model_Efficientnet.trainable = False"
      ]
    },
    {
      "cell_type": "code",
      "execution_count": null,
      "metadata": {
        "id": "2f-zN5KQg80K"
      },
      "outputs": [],
      "source": [
        "model_Efficientnet.compile(\n",
        "    optimizer = tf.keras.optimizers.Adam(),\n",
        "    loss = tf.keras.losses.CategoricalCrossentropy(),\n",
        "    metrics = ['accuracy']\n",
        ")"
      ]
    },
    {
      "cell_type": "code",
      "execution_count": null,
      "metadata": {
        "colab": {
          "base_uri": "https://localhost:8080/"
        },
        "id": "GFWeL9CPdeZl",
        "outputId": "78ca0fac-ebc3-482b-dc52-4b9331bb8cc6"
      },
      "outputs": [
        {
          "name": "stdout",
          "output_type": "stream",
          "text": [
            "Model: \"sequential\"\n",
            "_________________________________________________________________\n",
            " Layer (type)                Output Shape              Param #   \n",
            "=================================================================\n",
            " Efficientnet_b0 (KerasLayer  (None, 1000)             5330564   \n",
            " )                                                               \n",
            "                                                                 \n",
            " dense (Dense)               (None, 512)               512512    \n",
            "                                                                 \n",
            " dropout (Dropout)           (None, 512)               0         \n",
            "                                                                 \n",
            " Output_layer (Dense)        (None, 29)                14877     \n",
            "                                                                 \n",
            "=================================================================\n",
            "Total params: 5,857,953\n",
            "Trainable params: 527,389\n",
            "Non-trainable params: 5,330,564\n",
            "_________________________________________________________________\n"
          ]
        }
      ],
      "source": [
        "model_Efficientnet.summary()"
      ]
    },
    {
      "cell_type": "code",
      "execution_count": null,
      "metadata": {
        "colab": {
          "background_save": true,
          "base_uri": "https://localhost:8080/"
        },
        "id": "oCU_0eo27a59",
        "outputId": "8b89955a-f57c-4a54-aa81-257d9ef5a31b"
      },
      "outputs": [
        {
          "name": "stdout",
          "output_type": "stream",
          "text": [
            "Epoch 1/25\n",
            "2175/2175 [==============================] - 783s 355ms/step - loss: 0.6014 - accuracy: 0.8106 - val_loss: 0.3863 - val_accuracy: 0.8766\n",
            "Epoch 2/25\n",
            "2175/2175 [==============================] - 767s 353ms/step - loss: 0.3225 - accuracy: 0.8940 - val_loss: 0.3593 - val_accuracy: 0.8805\n",
            "Epoch 3/25\n",
            "2175/2175 [==============================] - 779s 358ms/step - loss: 0.2836 - accuracy: 0.9088 - val_loss: 0.5018 - val_accuracy: 0.8652\n",
            "Epoch 4/25\n",
            "2175/2175 [==============================] - 775s 356ms/step - loss: 0.2609 - accuracy: 0.9164 - val_loss: 0.3640 - val_accuracy: 0.8941\n",
            "Epoch 5/25\n",
            "2175/2175 [==============================] - 773s 355ms/step - loss: 0.2410 - accuracy: 0.9223 - val_loss: 0.3473 - val_accuracy: 0.8968\n",
            "Epoch 6/25\n",
            "2175/2175 [==============================] - 774s 356ms/step - loss: 0.2291 - accuracy: 0.9267 - val_loss: 0.4240 - val_accuracy: 0.8887\n",
            "Epoch 7/25\n",
            "2175/2175 [==============================] - 774s 356ms/step - loss: 0.2208 - accuracy: 0.9311 - val_loss: 0.3810 - val_accuracy: 0.8952\n",
            "Epoch 8/25\n",
            "2175/2175 [==============================] - 774s 356ms/step - loss: 0.2144 - accuracy: 0.9339 - val_loss: 0.4332 - val_accuracy: 0.8895\n",
            "Epoch 9/25\n",
            "2175/2175 [==============================] - 774s 356ms/step - loss: 0.2051 - accuracy: 0.9372 - val_loss: 0.4459 - val_accuracy: 0.8924\n",
            "Epoch 10/25\n",
            "2175/2175 [==============================] - 775s 356ms/step - loss: 0.2085 - accuracy: 0.9370 - val_loss: 0.4437 - val_accuracy: 0.8957\n",
            "Epoch 11/25\n",
            "2175/2175 [==============================] - 772s 355ms/step - loss: 0.1963 - accuracy: 0.9410 - val_loss: 0.5790 - val_accuracy: 0.8801\n",
            "Epoch 12/25\n",
            "2175/2175 [==============================] - 770s 354ms/step - loss: 0.1996 - accuracy: 0.9412 - val_loss: 0.4398 - val_accuracy: 0.8984\n",
            "Epoch 13/25\n",
            "2175/2175 [==============================] - 762s 350ms/step - loss: 0.1873 - accuracy: 0.9445 - val_loss: 0.3625 - val_accuracy: 0.9110\n",
            "Epoch 14/25\n",
            "2175/2175 [==============================] - ETA: 0s - loss: 0.1867 - accuracy: 0.9445"
          ]
        }
      ],
      "source": [
        "efficientnet_model = model_Efficientnet.fit(train_data, epochs = 25, verbose = 1, validation_data=val_data)\n"
      ]
    },
    {
      "cell_type": "code",
      "execution_count": 15,
      "metadata": {
        "id": "oR4n_VnE7a8f"
      },
      "outputs": [],
      "source": [
        "def plot_history(history, metric, val_metric):\n",
        "  acc = history.history[metric]\n",
        "  val_acc = history.history[val_metric]\n",
        "\n",
        "  loss=history.history['loss']\n",
        "  val_loss=history.history['val_loss']\n",
        "\n",
        "  epochs_range = range(len(acc))\n",
        "\n",
        "  fig=plt.figure(figsize=(12, 8))\n",
        "  plt.subplot(1, 2, 1)\n",
        "  plt.plot(epochs_range, acc, label='Training Accuracy')\n",
        "  plt.plot(epochs_range, val_acc, label='Validation Accuracy')\n",
        "  plt.legend(loc='lower right')\n",
        "  plt.ylim([min(plt.ylim()),1])\n",
        "  plt.grid(True)\n",
        "  plt.title('Training and Validation Accuracy')\n",
        "\n",
        "  plt.subplot(1, 2, 2)\n",
        "  plt.plot(epochs_range, loss, label='Training Loss')\n",
        "  plt.plot(epochs_range, val_loss, label='Validation Loss')\n",
        "  plt.legend(loc='upper right')\n",
        "  plt.grid(True)\n",
        "  plt.title('Training and Validation Loss')\n",
        "  plt.show()\n",
        "  fig.savefig('traininghistory.pdf')\n",
        "\n"
      ]
    },
    {
      "cell_type": "code",
      "execution_count": null,
      "metadata": {
        "id": "hIaGf5IvhGe4"
      },
      "outputs": [],
      "source": [
        "plot_history(efficientnet_model, 'accuracy', 'val_accuracy')"
      ]
    },
    {
      "cell_type": "code",
      "execution_count": null,
      "metadata": {
        "id": "cS5udjQ5At_z"
      },
      "outputs": [],
      "source": [
        "model_Efficientnet.save('/content/gdrive/MyDrive/CMPE255_ASL_PROJECT/Efficientnet_model_new.h5')"
      ]
    },
    {
      "cell_type": "code",
      "execution_count": null,
      "metadata": {
        "id": "IFB3CvVCLtA8"
      },
      "outputs": [],
      "source": [
        "from tensorflow.keras.models import load_model"
      ]
    },
    {
      "cell_type": "code",
      "execution_count": null,
      "metadata": {
        "id": "iDHQpS8Medj0"
      },
      "outputs": [],
      "source": [
        "# model_Efficientnet = load_model('/content/gdrive/MyDrive/CMPE255_ASL_PROJECT/Efficientnet_model.h5', custom_objects={'KerasLayer':hub.KerasLayer})"
      ]
    },
    {
      "cell_type": "code",
      "execution_count": null,
      "metadata": {
        "id": "bYWQdkZeL0kU"
      },
      "outputs": [],
      "source": [
        "# efficientnet_model = model_Efficientnet.fit(train_data, epochs = 1, verbose = 1, validation_data=val_data)\n"
      ]
    },
    {
      "cell_type": "code",
      "execution_count": null,
      "metadata": {
        "id": "SSEanXY5SQpG"
      },
      "outputs": [],
      "source": []
    },
    {
      "cell_type": "markdown",
      "metadata": {
        "id": "WtxNLgmbaXZf"
      },
      "source": [
        "## Inception ResNet V2"
      ]
    },
    {
      "cell_type": "code",
      "execution_count": 9,
      "metadata": {
        "id": "EIKMiRQbacy9"
      },
      "outputs": [],
      "source": [
        "inceptionResNetV2 = 'https://tfhub.dev/google/imagenet/inception_resnet_v2/classification/5'"
      ]
    },
    {
      "cell_type": "code",
      "execution_count": 10,
      "metadata": {
        "id": "Lm9fvyK1am8e"
      },
      "outputs": [],
      "source": [
        "model_inceptionResNetV2 = tf.keras.Sequential([\n",
        "    hub.KerasLayer(inceptionResNetV2, input_shape = (224,224,3),\n",
        "               trainable=True, arguments=dict(batch_norm_momentum=0.997), name = 'inceptionResNetV2_layer'),\n",
        "    tf.keras.layers.Flatten(),\n",
        "    tf.keras.layers.Dense(29, activation = 'softmax', name = 'Output_layer')\n",
        "])\n",
        "\n",
        "model_inceptionResNetV2.compile(\n",
        "    optimizer = tf.keras.optimizers.Adam(),\n",
        "    loss = tf.keras.losses.CategoricalCrossentropy(),\n",
        "    metrics = ['accuracy']\n",
        ")"
      ]
    },
    {
      "cell_type": "code",
      "execution_count": 11,
      "metadata": {
        "id": "nTlvJVMsam_-",
        "colab": {
          "base_uri": "https://localhost:8080/"
        },
        "outputId": "aa59e5dd-e1c4-4e46-8352-d04b7d4eff41"
      },
      "outputs": [
        {
          "output_type": "stream",
          "name": "stdout",
          "text": [
            "Model: \"sequential\"\n",
            "_________________________________________________________________\n",
            " Layer (type)                Output Shape              Param #   \n",
            "=================================================================\n",
            " inceptionResNetV2_layer (Ke  (None, 1001)             55875273  \n",
            " rasLayer)                                                       \n",
            "                                                                 \n",
            " flatten (Flatten)           (None, 1001)              0         \n",
            "                                                                 \n",
            " Output_layer (Dense)        (None, 29)                29058     \n",
            "                                                                 \n",
            "=================================================================\n",
            "Total params: 55,904,331\n",
            "Trainable params: 55,843,787\n",
            "Non-trainable params: 60,544\n",
            "_________________________________________________________________\n"
          ]
        }
      ],
      "source": [
        "model_inceptionResNetV2.summary()"
      ]
    },
    {
      "cell_type": "code",
      "execution_count": 12,
      "metadata": {
        "id": "vDMMsJ0DanC3",
        "colab": {
          "base_uri": "https://localhost:8080/"
        },
        "outputId": "2b4d673d-7053-4a16-95d3-aef0e28463cc"
      },
      "outputs": [
        {
          "output_type": "stream",
          "name": "stdout",
          "text": [
            "Epoch 1/2\n",
            "2175/2175 [==============================] - 1443s 647ms/step - loss: 0.9661 - accuracy: 0.9036 - val_loss: 1.1686 - val_accuracy: 0.8730\n",
            "Epoch 2/2\n",
            "2175/2175 [==============================] - 1402s 645ms/step - loss: 0.7041 - accuracy: 0.9582 - val_loss: 1.1632 - val_accuracy: 0.8961\n"
          ]
        }
      ],
      "source": [
        "inceptionResNetV2_model = model_inceptionResNetV2.fit(train_data, epochs = 2, verbose = 1, validation_data=val_data)\n"
      ]
    },
    {
      "cell_type": "code",
      "execution_count": 17,
      "metadata": {
        "id": "K3rsKUA_kinq"
      },
      "outputs": [],
      "source": [
        "model_inceptionResNetV2.save('model_inceptionResNetV2.h5')"
      ]
    },
    {
      "cell_type": "code",
      "execution_count": null,
      "metadata": {
        "id": "dUUEas9vkiqG"
      },
      "outputs": [],
      "source": []
    },
    {
      "cell_type": "code",
      "execution_count": 16,
      "metadata": {
        "id": "0F9Hxd1Ekise",
        "colab": {
          "base_uri": "https://localhost:8080/",
          "height": 499
        },
        "outputId": "dfc3e6fb-31d5-409c-d20b-68b9b692ca65"
      },
      "outputs": [
        {
          "output_type": "display_data",
          "data": {
            "text/plain": [
              "<Figure size 864x576 with 2 Axes>"
            ],
            "image/png": "[encoded data removed]"
          },
          "metadata": {
            "needs_background": "light"
          }
        }
      ],
      "source": [
        "plot_history(inceptionResNetV2_model, 'accuracy', 'val_accuracy')"
      ]
    }
  ],
  "metadata": {
    "accelerator": "GPU",
    "colab": {
      "machine_shape": "hm",
      "provenance": []
    },
    "gpuClass": "premium",
    "kernelspec": {
      "display_name": "Python 3",
      "name": "python3"
    },
    "language_info": {
      "name": "python"
    }
  },
  "nbformat": 4,
  "nbformat_minor": 0
}