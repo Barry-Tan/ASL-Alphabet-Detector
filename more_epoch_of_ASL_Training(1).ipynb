{
  "cells": [
    {
      "cell_type": "code",
      "execution_count": null,
      "metadata": {
        "colab": {
          "base_uri": "https://localhost:8080/"
        },
        "id": "XKjn9hil7slC",
        "outputId": "43c5f09a-9001-4f02-add1-92bcf0568c35"
      },
      "outputs": [
        {
          "name": "stdout",
          "output_type": "stream",
          "text": [
            "Mounted at /content/gdrive\n"
          ]
        }
      ],
      "source": [
        "from google.colab import drive\n",
        "drive.mount('/content/gdrive')"
      ]
    },
    {
      "cell_type": "code",
      "execution_count": null,
      "metadata": {
        "id": "tzQnZa7p8pov"
      },
      "outputs": [],
      "source": [
        "import tensorflow as tf\n"
      ]
    },
    {
      "cell_type": "code",
      "execution_count": null,
      "metadata": {
        "colab": {
          "base_uri": "https://localhost:8080/"
        },
        "id": "KQADj-B68uF3",
        "outputId": "ce45d7ef-914c-41ed-f7dc-101c6741bfdc"
      },
      "outputs": [
        {
          "name": "stdout",
          "output_type": "stream",
          "text": [
            "--> Checking for physical Tensorflow devices\n",
            ": /physical_device:CPU:0\n",
            ": /physical_device:GPU:0\n"
          ]
        }
      ],
      "source": [
        "print(\"--> Checking for physical Tensorflow devices\")\n",
        "for device in tf.config.list_physical_devices():\n",
        "    print(\": {}\".format(device.name))"
      ]
    },
    {
      "cell_type": "code",
      "execution_count": null,
      "metadata": {
        "id": "P0mXy_HG6WC8"
      },
      "outputs": [],
      "source": [
        "!unzip -q /content/gdrive/MyDrive/CMPE255_ASL_PROJECT/Data.zip"
      ]
    },
    {
      "cell_type": "code",
      "execution_count": null,
      "metadata": {
        "id": "VEryA-Sl8Y8N"
      },
      "outputs": [],
      "source": [
        "dataset_path = '/content/asl_alphabet_train/asl_alphabet_train'\n"
      ]
    },
    {
      "cell_type": "code",
      "execution_count": null,
      "metadata": {
        "id": "HDz8YofCRMNF"
      },
      "outputs": [],
      "source": [
        "Efficientnet_b0 = 'https://tfhub.dev/google/efficientnet/b0/classification/1'\n"
      ]
    },
    {
      "cell_type": "code",
      "execution_count": null,
      "metadata": {
        "id": "8d99fta6RQFq"
      },
      "outputs": [],
      "source": [
        "import os\n",
        "import tensorflow_hub as hub\n",
        "import tensorflow as tf\n",
        "import pathlib\n",
        "import cv2\n",
        "from sklearn.utils import shuffle\n",
        "from tensorflow.keras import layers\n",
        "import numpy as np\n",
        "from tensorflow.keras.preprocessing.image import ImageDataGenerator\n",
        "import matplotlib.pyplot as plt"
      ]
    },
    {
      "cell_type": "code",
      "execution_count": null,
      "metadata": {
        "id": "y3xO4XMz7Fvn"
      },
      "outputs": [],
      "source": [
        "train_data_generator = ImageDataGenerator(\n",
        "    rescale = 1./255,\n",
        "    rotation_range=10,\n",
        "    width_shift_range=0.2,\n",
        "    height_shift_range=0.2,\n",
        "    shear_range=0.2,\n",
        "    zoom_range=0.2,\n",
        "    horizontal_flip=True,\n",
        "    fill_mode='nearest',\n",
        "    validation_split = 0.2)\n",
        "\n",
        "test_data_generator = ImageDataGenerator(\n",
        "    rescale = 1./255,\n",
        "    validation_split = 0.2)"
      ]
    },
    {
      "cell_type": "code",
      "execution_count": null,
      "metadata": {
        "colab": {
          "base_uri": "https://localhost:8080/"
        },
        "id": "mmrcFhT57Fx4",
        "outputId": "c96a746c-69a5-4f05-c9b2-416d3f6d87e0"
      },
      "outputs": [
        {
          "name": "stdout",
          "output_type": "stream",
          "text": [
            "Found 69600 images belonging to 29 classes.\n",
            "Found 17400 images belonging to 29 classes.\n"
          ]
        }
      ],
      "source": [
        "# GPU setup\n",
        "batch_size = 32\n",
        "img_height = 224\n",
        "img_width = 224\n",
        "train_data = train_data_generator.flow_from_directory(\n",
        "    dataset_path,\n",
        "    target_size = (img_width, img_height),\n",
        "    batch_size = batch_size,\n",
        "    class_mode = 'categorical',\n",
        "    subset = 'training')\n",
        "\n",
        "val_data = test_data_generator.flow_from_directory(\n",
        "    dataset_path,\n",
        "    target_size = (img_width, img_height),\n",
        "    batch_size = batch_size,\n",
        "    class_mode='categorical',\n",
        "    subset = 'validation')"
      ]
    },
    {
      "cell_type": "markdown",
      "metadata": {
        "id": "_so4X9LGkdau"
      },
      "source": [
        "## Efficientnet_b0"
      ]
    },
    {
      "cell_type": "code",
      "execution_count": null,
      "metadata": {
        "id": "4blyoattRpCJ"
      },
      "outputs": [],
      "source": [
        "Efficientnet_b0 = 'https://tfhub.dev/google/efficientnet/b0/classification/1'\n"
      ]
    },
    {
      "cell_type": "code",
      "execution_count": null,
      "metadata": {
        "id": "6yrRxEmjRVuf"
      },
      "outputs": [],
      "source": [
        "model_Efficientnet = tf.keras.Sequential([\n",
        "    hub.KerasLayer(Efficientnet_b0, input_shape = (224,224,3), name = 'Efficientnet_b0'),\n",
        "\n",
        "    tf.keras.layers.Dense(512, activation=\"relu\"),\n",
        "    tf.keras.layers.Dropout(0.5),\n",
        "    tf.keras.layers.Dense(29, activation = 'softmax', name = 'Output_layer')\n",
        "])\n",
        "\n"
      ]
    },
    {
      "cell_type": "code",
      "execution_count": null,
      "metadata": {
        "id": "5ttq4wcFdYzJ"
      },
      "outputs": [],
      "source": [
        "#model_Efficientnet.trainable = False"
      ]
    },
    {
      "cell_type": "code",
      "execution_count": null,
      "metadata": {
        "id": "2f-zN5KQg80K"
      },
      "outputs": [],
      "source": [
        "model_Efficientnet.compile(\n",
        "    optimizer = tf.keras.optimizers.Adam(),\n",
        "    loss = tf.keras.losses.CategoricalCrossentropy(),\n",
        "    metrics = ['accuracy']\n",
        ")"
      ]
    },
    {
      "cell_type": "code",
      "execution_count": null,
      "metadata": {
        "colab": {
          "base_uri": "https://localhost:8080/"
        },
        "id": "GFWeL9CPdeZl",
        "outputId": "12730f4a-114e-4b51-8654-5dc0f8a4553d"
      },
      "outputs": [
        {
          "name": "stdout",
          "output_type": "stream",
          "text": [
            "Model: \"sequential\"\n",
            "_________________________________________________________________\n",
            " Layer (type)                Output Shape              Param #   \n",
            "=================================================================\n",
            " Efficientnet_b0 (KerasLayer  (None, 1000)             5330564   \n",
            " )                                                               \n",
            "                                                                 \n",
            " dense (Dense)               (None, 512)               512512    \n",
            "                                                                 \n",
            " dropout (Dropout)           (None, 512)               0         \n",
            "                                                                 \n",
            " Output_layer (Dense)        (None, 29)                14877     \n",
            "                                                                 \n",
            "=================================================================\n",
            "Total params: 5,857,953\n",
            "Trainable params: 527,389\n",
            "Non-trainable params: 5,330,564\n",
            "_________________________________________________________________\n"
          ]
        }
      ],
      "source": [
        "model_Efficientnet.summary()"
      ]
    },
    {
      "cell_type": "code",
      "execution_count": null,
      "metadata": {
        "colab": {
          "base_uri": "https://localhost:8080/"
        },
        "id": "oCU_0eo27a59",
        "outputId": "81d0351e-15f7-460d-af0f-084ba215f849"
      },
      "outputs": [
        {
          "name": "stdout",
          "output_type": "stream",
          "text": [
            "Epoch 1/15\n",
            "2175/2175 [==============================] - 782s 354ms/step - loss: 0.5883 - accuracy: 0.8147 - val_loss: 0.4524 - val_accuracy: 0.8506\n",
            "Epoch 2/15\n",
            "2175/2175 [==============================] - 764s 351ms/step - loss: 0.3187 - accuracy: 0.8959 - val_loss: 0.4050 - val_accuracy: 0.8695\n",
            "Epoch 3/15\n",
            "2175/2175 [==============================] - 762s 350ms/step - loss: 0.2797 - accuracy: 0.9099 - val_loss: 0.3575 - val_accuracy: 0.8874\n",
            "Epoch 4/15\n",
            "2175/2175 [==============================] - 765s 352ms/step - loss: 0.2627 - accuracy: 0.9164 - val_loss: 0.3830 - val_accuracy: 0.8879\n",
            "Epoch 5/15\n",
            "2175/2175 [==============================] - 763s 351ms/step - loss: 0.2375 - accuracy: 0.9250 - val_loss: 0.3765 - val_accuracy: 0.8907\n",
            "Epoch 6/15\n",
            "2175/2175 [==============================] - 763s 351ms/step - loss: 0.2233 - accuracy: 0.9292 - val_loss: 0.4789 - val_accuracy: 0.8797\n",
            "Epoch 7/15\n",
            "2175/2175 [==============================] - 762s 350ms/step - loss: 0.2202 - accuracy: 0.9311 - val_loss: 0.4577 - val_accuracy: 0.8822\n",
            "Epoch 8/15\n",
            "2175/2175 [==============================] - 768s 353ms/step - loss: 0.2115 - accuracy: 0.9354 - val_loss: 0.4923 - val_accuracy: 0.8924\n",
            "Epoch 9/15\n",
            "2175/2175 [==============================] - 764s 351ms/step - loss: 0.2090 - accuracy: 0.9362 - val_loss: 0.4011 - val_accuracy: 0.9023\n",
            "Epoch 10/15\n",
            "2175/2175 [==============================] - 770s 354ms/step - loss: 0.2023 - accuracy: 0.9386 - val_loss: 0.4318 - val_accuracy: 0.8995\n",
            "Epoch 11/15\n",
            "2175/2175 [==============================] - 765s 352ms/step - loss: 0.1996 - accuracy: 0.9394 - val_loss: 0.3737 - val_accuracy: 0.9085\n",
            "Epoch 12/15\n",
            "2175/2175 [==============================] - 768s 353ms/step - loss: 0.1890 - accuracy: 0.9436 - val_loss: 0.4391 - val_accuracy: 0.8980\n",
            "Epoch 13/15\n",
            "2175/2175 [==============================] - 767s 353ms/step - loss: 0.1913 - accuracy: 0.9441 - val_loss: 0.4347 - val_accuracy: 0.8957\n",
            "Epoch 14/15\n",
            "2175/2175 [==============================] - 763s 351ms/step - loss: 0.1949 - accuracy: 0.9439 - val_loss: 0.3853 - val_accuracy: 0.9089\n",
            "Epoch 15/15\n",
            "2175/2175 [==============================] - 768s 353ms/step - loss: 0.1801 - accuracy: 0.9475 - val_loss: 0.5480 - val_accuracy: 0.8973\n"
          ]
        }
      ],
      "source": [
        "efficientnet_model = model_Efficientnet.fit(train_data, epochs = 15, verbose = 1, validation_data=val_data)\n"
      ]
    },
    {
      "cell_type": "code",
      "execution_count": null,
      "metadata": {
        "id": "oR4n_VnE7a8f"
      },
      "outputs": [],
      "source": [
        "def plot_history(history, metric, val_metric):\n",
        "  acc = history.history[metric]\n",
        "  val_acc = history.history[val_metric]\n",
        "\n",
        "  loss=history.history['loss']\n",
        "  val_loss=history.history['val_loss']\n",
        "\n",
        "  epochs_range = range(len(acc))\n",
        "\n",
        "  fig=plt.figure(figsize=(12, 8))\n",
        "  plt.subplot(1, 2, 1)\n",
        "  plt.plot(epochs_range, acc, label='Training Accuracy')\n",
        "  plt.plot(epochs_range, val_acc, label='Validation Accuracy')\n",
        "  plt.legend(loc='lower right')\n",
        "  plt.ylim([min(plt.ylim()),1])\n",
        "  plt.grid(True)\n",
        "  plt.title('Training and Validation Accuracy')\n",
        "\n",
        "  plt.subplot(1, 2, 2)\n",
        "  plt.plot(epochs_range, loss, label='Training Loss')\n",
        "  plt.plot(epochs_range, val_loss, label='Validation Loss')\n",
        "  plt.legend(loc='upper right')\n",
        "  plt.grid(True)\n",
        "  plt.title('Training and Validation Loss')\n",
        "  plt.show()\n",
        "  fig.savefig('traininghistory.pdf')\n",
        "\n"
      ]
    },
    {
      "cell_type": "code",
      "execution_count": null,
      "metadata": {
        "colab": {
          "base_uri": "https://localhost:8080/",
          "height": 499
        },
        "id": "hIaGf5IvhGe4",
        "outputId": "c082348d-b166-4510-8dff-30fdabf076ac"
      },
      "outputs": [
        {
          "data": {
            "image/png": "[encoded data removed]",
            "text/plain": [
              "<Figure size 864x576 with 2 Axes>"
            ]
          },
          "metadata": {},
          "output_type": "display_data"
        }
      ],
      "source": [
        "plot_history(efficientnet_model, 'accuracy', 'val_accuracy')"
      ]
    },
    {
      "cell_type": "code",
      "execution_count": null,
      "metadata": {
        "id": "cS5udjQ5At_z"
      },
      "outputs": [],
      "source": [
        "model_Efficientnet.save('/content/gdrive/MyDrive/CMPE255_ASL_PROJECT/Efficientnet_model_new.h5')"
      ]
    },
    {
      "cell_type": "code",
      "execution_count": null,
      "metadata": {
        "id": "IFB3CvVCLtA8"
      },
      "outputs": [],
      "source": [
        "from tensorflow.keras.models import load_model"
      ]
    },
    {
      "cell_type": "code",
      "execution_count": null,
      "metadata": {
        "id": "iDHQpS8Medj0"
      },
      "outputs": [],
      "source": [
        "# model_Efficientnet = load_model('/content/gdrive/MyDrive/CMPE255_ASL_PROJECT/Efficientnet_model.h5', custom_objects={'KerasLayer':hub.KerasLayer})"
      ]
    },
    {
      "cell_type": "code",
      "execution_count": null,
      "metadata": {
        "id": "bYWQdkZeL0kU"
      },
      "outputs": [],
      "source": [
        "# efficientnet_model = model_Efficientnet.fit(train_data, epochs = 1, verbose = 1, validation_data=val_data)\n"
      ]
    },
    {
      "cell_type": "code",
      "execution_count": null,
      "metadata": {
        "id": "SSEanXY5SQpG"
      },
      "outputs": [],
      "source": []
    },
    {
      "cell_type": "markdown",
      "source": [
        "## MobileNetV2\n"
      ],
      "metadata": {
        "id": "Ty14II8qo4Xm"
      }
    },
    {
      "cell_type": "code",
      "source": [
        "data_augmentation = tf.keras.Sequential([\n",
        "  tf.keras.layers.experimental.preprocessing.RandomFlip('horizontal'),\n",
        "  tf.keras.layers.experimental.preprocessing.RandomRotation(0.3),\n",
        "])\n",
        "\n",
        "for image, _ in trainingData.take(1):\n",
        "  plt.figure(figsize=(10, 10))\n",
        "  first_image = image[0]\n",
        "  for i in range(9):\n",
        "    ax = plt.subplot(3, 3, i + 1)\n",
        "    augmented_image = data_augmentation(tf.expand_dims(first_image, 0))\n",
        "    plt.imshow(augmented_image[0] / 255)"
      ],
      "metadata": {
        "id": "vdGCMWDup7mb"
      },
      "execution_count": null,
      "outputs": []
    },
    {
      "cell_type": "code",
      "source": [
        "preprocess_input = tf.keras.applications.mobilenet_v2.preprocess_input"
      ],
      "metadata": {
        "colab": {
          "base_uri": "https://localhost:8080/",
          "height": 165
        },
        "id": "DWGaHF2io6yS",
        "outputId": "cd27dc46-25d2-45e3-c21f-0b2646591028"
      },
      "execution_count": null,
      "outputs": [
        {
          "output_type": "error",
          "ename": "NameError",
          "evalue": "ignored",
          "traceback": [
            "\u001b[0;31m---------------------------------------------------------------------------\u001b[0m",
            "\u001b[0;31mNameError\u001b[0m                                 Traceback (most recent call last)",
            "\u001b[0;32m<ipython-input-2-5733c64d4c49>\u001b[0m in \u001b[0;36m<module>\u001b[0;34m\u001b[0m\n\u001b[0;32m----> 1\u001b[0;31m \u001b[0mpreprocess_input\u001b[0m \u001b[0;34m=\u001b[0m \u001b[0mtensorflow\u001b[0m\u001b[0;34m.\u001b[0m\u001b[0mkeras\u001b[0m\u001b[0;34m.\u001b[0m\u001b[0mapplications\u001b[0m\u001b[0;34m.\u001b[0m\u001b[0mmobilenet_v2\u001b[0m\u001b[0;34m.\u001b[0m\u001b[0mpreprocess_input\u001b[0m\u001b[0;34m\u001b[0m\u001b[0;34m\u001b[0m\u001b[0m\n\u001b[0m",
            "\u001b[0;31mNameError\u001b[0m: name 'tensorflow' is not defined"
          ]
        }
      ]
    },
    {
      "cell_type": "code",
      "source": [
        "IMG_SIZE = (256, 256)\n",
        "IMG_SHAPE = IMG_SIZE + (3,)\n",
        "base_model = tf.keras.applications.MobileNetV2(input_shape=IMG_SHAPE,include_top=False,weights='imagenet')"
      ],
      "metadata": {
        "id": "6675LxzUpCwU"
      },
      "execution_count": null,
      "outputs": []
    },
    {
      "cell_type": "code",
      "source": [
        "image_batch, label_batch = next(iter(train_data_generator))\n",
        "feature_batch = base_model(image_batch)\n",
        "print(feature_batch.shape)"
      ],
      "metadata": {
        "id": "AvauIBi-pK61"
      },
      "execution_count": null,
      "outputs": []
    },
    {
      "cell_type": "code",
      "source": [
        "base_model.trainable = False\n",
        "\n",
        "base_model.summary()"
      ],
      "metadata": {
        "id": "bf1Via8-pMx3"
      },
      "execution_count": null,
      "outputs": []
    },
    {
      "cell_type": "code",
      "source": [
        "global_average_layer = tf.keras.layers.GlobalAveragePooling2D()\n",
        "feature_batch_average = global_average_layer(feature_batch)\n",
        "prediction_layer = tf.keras.layers.Dense(29)\n",
        "prediction_batch = prediction_layer(feature_batch_average)\n",
        "\n",
        "inputs = tf.keras.Input(shape=IMG_SHAPE)\n",
        "x = data_augmentation(inputs)\n",
        "x = preprocess_input(x)\n",
        "x = base_model(x, training=False)\n",
        "x = global_average_layer(x)\n",
        "x = tf.keras.layers.Dropout(0.2)(x)\n",
        "outputs = prediction_layer(x)\n",
        "model = tf.keras.Model(inputs, outputs)\n",
        "\n",
        "base_learning_rate = 0.0001\n",
        "model.compile(optimizer=tf.keras.optimizers.Adam(lr=base_learning_rate),\n",
        "              loss=tf.losses.SparseCategoricalCrossentropy(from_logits=True),\n",
        "              metrics=['accuracy'])"
      ],
      "metadata": {
        "id": "p6rWEVBNpN-V"
      },
      "execution_count": null,
      "outputs": []
    },
    {
      "cell_type": "code",
      "source": [
        "model.summary()"
      ],
      "metadata": {
        "id": "nmhx050ypPWW"
      },
      "execution_count": null,
      "outputs": []
    },
    {
      "cell_type": "code",
      "source": [
        "model.trainable_variables"
      ],
      "metadata": {
        "id": "d2ofI1HOpQax"
      },
      "execution_count": null,
      "outputs": []
    },
    {
      "cell_type": "code",
      "source": [
        "initialLoss,initialAccuracy = model.evaluate(test_data_generator)"
      ],
      "metadata": {
        "id": "qVIjbUJ6pRcK"
      },
      "execution_count": null,
      "outputs": []
    },
    {
      "cell_type": "code",
      "source": [
        "print(\"initial accuracy: \"+str(initialAccuracy))\n",
        "print(\"initial loss: \"+str(initialLoss))\n"
      ],
      "metadata": {
        "id": "Y2Oil60rpSRu"
      },
      "execution_count": null,
      "outputs": []
    },
    {
      "cell_type": "code",
      "source": [
        "history = model.fit(train_data_generator,epochs=20,validation_data=test_data_generator)"
      ],
      "metadata": {
        "id": "xYYZ5WLlpV44"
      },
      "execution_count": null,
      "outputs": []
    },
    {
      "cell_type": "code",
      "source": [
        "def plot_history(history, metric, val_metric):\n",
        "  acc = history.history[metric]\n",
        "  val_acc = history.history[val_metric]\n",
        "\n",
        "  loss=history.history['loss']\n",
        "  val_loss=history.history['val_loss']\n",
        "\n",
        "  epochs_range = range(len(acc))\n",
        "\n",
        "  fig=plt.figure(figsize=(12, 8))\n",
        "  plt.subplot(1, 2, 1)\n",
        "  plt.plot(epochs_range, acc, label='Training Accuracy')\n",
        "  plt.plot(epochs_range, val_acc, label='Validation Accuracy')\n",
        "  plt.legend(loc='lower right')\n",
        "  plt.ylim([min(plt.ylim()),1])\n",
        "  plt.grid(True)\n",
        "  plt.title('Training and Validation Accuracy')\n",
        "\n",
        "  plt.subplot(1, 2, 2)\n",
        "  plt.plot(epochs_range, loss, label='Training Loss')\n",
        "  plt.plot(epochs_range, val_loss, label='Validation Loss')\n",
        "  plt.legend(loc='upper right')\n",
        "  plt.grid(True)\n",
        "  plt.title('Training and Validation Loss')\n",
        "  plt.show()\n",
        "\n",
        "\n",
        "plot_history(history, 'accuracy', 'val_accuracy')"
      ],
      "metadata": {
        "id": "phiQyL0IpZDx"
      },
      "execution_count": null,
      "outputs": []
    },
    {
      "cell_type": "markdown",
      "metadata": {
        "id": "WtxNLgmbaXZf"
      },
      "source": [
        "## Inception ResNet V2"
      ]
    },
    {
      "cell_type": "code",
      "execution_count": null,
      "metadata": {
        "id": "EIKMiRQbacy9"
      },
      "outputs": [],
      "source": [
        "inceptionResNetV2 = 'https://tfhub.dev/google/imagenet/inception_resnet_v2/classification/5'"
      ]
    },
    {
      "cell_type": "code",
      "execution_count": null,
      "metadata": {
        "id": "Lm9fvyK1am8e"
      },
      "outputs": [],
      "source": [
        "model_inceptionResNetV2 = tf.keras.Sequential([\n",
        "    hub.KerasLayer(inceptionResNetV2, input_shape = (224,224,3),\n",
        "               trainable=True, arguments=dict(batch_norm_momentum=0.997), name = 'inceptionResNetV2_layer'),\n",
        "    tf.keras.layers.Flatten(),\n",
        "    tf.keras.layers.Dense(29, activation = 'softmax', name = 'Output_layer')\n",
        "])\n",
        "\n",
        "model_inceptionResNetV2.compile(\n",
        "    optimizer = tf.keras.optimizers.Adam(),\n",
        "    loss = tf.keras.losses.CategoricalCrossentropy(),\n",
        "    metrics = ['accuracy']\n",
        ")"
      ]
    },
    {
      "cell_type": "code",
      "execution_count": null,
      "metadata": {
        "colab": {
          "base_uri": "https://localhost:8080/"
        },
        "id": "nTlvJVMsam_-",
        "outputId": "f00885d3-6fb1-440b-bc7c-61080a1ccc76"
      },
      "outputs": [
        {
          "name": "stdout",
          "output_type": "stream",
          "text": [
            "Model: \"sequential\"\n",
            "_________________________________________________________________\n",
            " Layer (type)                Output Shape              Param #   \n",
            "=================================================================\n",
            " inceptionResNetV2_layer (Ke  (None, 1001)             55875273  \n",
            " rasLayer)                                                       \n",
            "                                                                 \n",
            " flatten (Flatten)           (None, 1001)              0         \n",
            "                                                                 \n",
            " Output_layer (Dense)        (None, 29)                29058     \n",
            "                                                                 \n",
            "=================================================================\n",
            "Total params: 55,904,331\n",
            "Trainable params: 55,843,787\n",
            "Non-trainable params: 60,544\n",
            "_________________________________________________________________\n"
          ]
        }
      ],
      "source": [
        "model_inceptionResNetV2.summary()"
      ]
    },
    {
      "cell_type": "code",
      "execution_count": null,
      "metadata": {
        "colab": {
          "base_uri": "https://localhost:8080/"
        },
        "id": "vDMMsJ0DanC3",
        "outputId": "4c03ca3c-a9fc-4522-aee2-df339a6ea85c"
      },
      "outputs": [
        {
          "name": "stdout",
          "output_type": "stream",
          "text": [
            "Epoch 1/15\n",
            "2175/2175 [==============================] - 827s 363ms/step - loss: 0.8454 - accuracy: 0.9227 - val_loss: 84.7432 - val_accuracy: 0.0602\n",
            "Epoch 2/15\n",
            "2175/2175 [==============================] - 785s 361ms/step - loss: 0.6218 - accuracy: 0.9651 - val_loss: 0.8700 - val_accuracy: 0.8786\n",
            "Epoch 3/15\n",
            "2175/2175 [==============================] - 784s 360ms/step - loss: 0.5497 - accuracy: 0.9688 - val_loss: 0.4865 - val_accuracy: 0.9709\n",
            "Epoch 4/15\n",
            "2175/2175 [==============================] - 783s 360ms/step - loss: 0.4889 - accuracy: 0.9721 - val_loss: 0.4396 - val_accuracy: 0.9733\n",
            "Epoch 5/15\n",
            "2175/2175 [==============================] - 783s 360ms/step - loss: 0.4346 - accuracy: 0.9760 - val_loss: 0.4953 - val_accuracy: 0.9544\n",
            "Epoch 6/15\n",
            "2175/2175 [==============================] - 784s 360ms/step - loss: 0.3905 - accuracy: 0.9777 - val_loss: 0.6402 - val_accuracy: 0.9167\n",
            "Epoch 7/15\n",
            "2175/2175 [==============================] - 782s 360ms/step - loss: 0.3970 - accuracy: 0.9776 - val_loss: 188.5956 - val_accuracy: 0.1042\n",
            "Epoch 8/15\n",
            "2175/2175 [==============================] - 782s 360ms/step - loss: 0.3748 - accuracy: 0.9801 - val_loss: 0.4148 - val_accuracy: 0.9670\n",
            "Epoch 9/15\n",
            "2175/2175 [==============================] - 782s 359ms/step - loss: 0.3339 - accuracy: 0.9810 - val_loss: 0.4716 - val_accuracy: 0.9299\n",
            "Epoch 10/15\n",
            "2175/2175 [==============================] - 778s 358ms/step - loss: 0.3291 - accuracy: 0.9800 - val_loss: 0.3209 - val_accuracy: 0.9857\n",
            "Epoch 11/15\n",
            "2175/2175 [==============================] - 781s 359ms/step - loss: 0.2965 - accuracy: 0.9831 - val_loss: 0.6499 - val_accuracy: 0.9010\n",
            "Epoch 12/15\n",
            "2175/2175 [==============================] - 780s 358ms/step - loss: 0.2942 - accuracy: 0.9816 - val_loss: 0.4763 - val_accuracy: 0.9486\n",
            "Epoch 13/15\n",
            "2175/2175 [==============================] - 779s 358ms/step - loss: 0.2769 - accuracy: 0.9838 - val_loss: 94.4933 - val_accuracy: 0.1239\n",
            "Epoch 14/15\n",
            "2175/2175 [==============================] - 778s 358ms/step - loss: 0.2574 - accuracy: 0.9849 - val_loss: 13.0278 - val_accuracy: 0.4578\n",
            "Epoch 15/15\n",
            "2175/2175 [==============================] - 779s 358ms/step - loss: 0.2504 - accuracy: 0.9838 - val_loss: 3.7506 - val_accuracy: 0.7119\n"
          ]
        }
      ],
      "source": [
        "inceptionResNetV2_model = model_inceptionResNetV2.fit(train_data, epochs = 15, verbose = 1, validation_data=val_data)\n"
      ]
    },
    {
      "cell_type": "code",
      "execution_count": null,
      "metadata": {
        "id": "K3rsKUA_kinq"
      },
      "outputs": [],
      "source": [
        "model_inceptionResNetV2.save('/content/gdrive/MyDrive/CMPE255_ASL_PROJECT/model_inceptionResNetV2.h5')"
      ]
    },
    {
      "cell_type": "code",
      "execution_count": null,
      "metadata": {
        "colab": {
          "background_save": true,
          "base_uri": "https://localhost:8080/",
          "height": 166
        },
        "id": "0F9Hxd1Ekise",
        "outputId": "42685f05-39fc-4eee-b56a-024c8610be56"
      },
      "outputs": [
        {
          "ename": "NameError",
          "evalue": "ignored",
          "output_type": "error",
          "traceback": [
            "\u001b[0;31m---------------------------------------------------------------------------\u001b[0m",
            "\u001b[0;31mNameError\u001b[0m                                 Traceback (most recent call last)",
            "\u001b[0;32m<ipython-input-2-4352016dc9be>\u001b[0m in \u001b[0;36m<module>\u001b[0;34m\u001b[0m\n\u001b[0;32m----> 1\u001b[0;31m \u001b[0mplot_history\u001b[0m\u001b[0;34m(\u001b[0m\u001b[0minceptionResNetV2_model\u001b[0m\u001b[0;34m,\u001b[0m \u001b[0;34m'accuracy'\u001b[0m\u001b[0;34m,\u001b[0m \u001b[0;34m'val_accuracy'\u001b[0m\u001b[0;34m)\u001b[0m\u001b[0;34m\u001b[0m\u001b[0;34m\u001b[0m\u001b[0m\n\u001b[0m",
            "\u001b[0;31mNameError\u001b[0m: name 'inceptionResNetV2_model' is not defined"
          ]
        }
      ],
      "source": [
        "plot_history(inceptionResNetV2_model, 'accuracy', 'val_accuracy')"
      ]
    },
    {
      "cell_type": "code",
      "source": [
        "import pandas as pd\n",
        "from matplotlib import pyplot as plt"
      ],
      "metadata": {
        "id": "K8-sD_aZ7mqO"
      },
      "execution_count": null,
      "outputs": []
    },
    {
      "cell_type": "code",
      "source": [
        "df = pd.read_csv('/content/plot.txt',sep=',')\n",
        "df1 = df.drop([5])\n",
        "df1"
      ],
      "metadata": {
        "colab": {
          "base_uri": "https://localhost:8080/",
          "height": 363
        },
        "id": "07k5Nq-F9VcK",
        "outputId": "b4a892dd-c3b5-44bb-b449-84279aafd473"
      },
      "execution_count": null,
      "outputs": [
        {
          "output_type": "execute_result",
          "data": {
            "text/plain": [
              "      loss     acc  val_loss  val_acc\n",
              "0   0.6218  0.9651    0.8700   0.8786\n",
              "1   0.5497  0.9688    0.4865   0.9709\n",
              "2   0.4889  0.9721    0.4396   0.9733\n",
              "3   0.4346  0.9760    0.4953   0.9544\n",
              "4   0.3905  0.9777    0.6402   0.9167\n",
              "6   0.3748  0.9801    0.4148   0.9670\n",
              "7   0.3339  0.9810    0.4716   0.9299\n",
              "8   0.3291  0.9800    0.3209   0.9857\n",
              "9   0.2965  0.9831    0.6499   0.9010\n",
              "10  0.2942  0.9816    0.4763   0.9486"
            ],
            "text/html": [
              "\n",
              "  <div id=\"df-a9f294be-8a0d-4134-b86c-99ff570c9e16\">\n",
              "    <div class=\"colab-df-container\">\n",
              "      <div>\n",
              "<style scoped>\n",
              "    .dataframe tbody tr th:only-of-type {\n",
              "        vertical-align: middle;\n",
              "    }\n",
              "\n",
              "    .dataframe tbody tr th {\n",
              "        vertical-align: top;\n",
              "    }\n",
              "\n",
              "    .dataframe thead th {\n",
              "        text-align: right;\n",
              "    }\n",
              "</style>\n",
              "<table border=\"1\" class=\"dataframe\">\n",
              "  <thead>\n",
              "    <tr style=\"text-align: right;\">\n",
              "      <th></th>\n",
              "      <th>loss</th>\n",
              "      <th>acc</th>\n",
              "      <th>val_loss</th>\n",
              "      <th>val_acc</th>\n",
              "    </tr>\n",
              "  </thead>\n",
              "  <tbody>\n",
              "    <tr>\n",
              "      <th>0</th>\n",
              "      <td>0.6218</td>\n",
              "      <td>0.9651</td>\n",
              "      <td>0.8700</td>\n",
              "      <td>0.8786</td>\n",
              "    </tr>\n",
              "    <tr>\n",
              "      <th>1</th>\n",
              "      <td>0.5497</td>\n",
              "      <td>0.9688</td>\n",
              "      <td>0.4865</td>\n",
              "      <td>0.9709</td>\n",
              "    </tr>\n",
              "    <tr>\n",
              "      <th>2</th>\n",
              "      <td>0.4889</td>\n",
              "      <td>0.9721</td>\n",
              "      <td>0.4396</td>\n",
              "      <td>0.9733</td>\n",
              "    </tr>\n",
              "    <tr>\n",
              "      <th>3</th>\n",
              "      <td>0.4346</td>\n",
              "      <td>0.9760</td>\n",
              "      <td>0.4953</td>\n",
              "      <td>0.9544</td>\n",
              "    </tr>\n",
              "    <tr>\n",
              "      <th>4</th>\n",
              "      <td>0.3905</td>\n",
              "      <td>0.9777</td>\n",
              "      <td>0.6402</td>\n",
              "      <td>0.9167</td>\n",
              "    </tr>\n",
              "    <tr>\n",
              "      <th>6</th>\n",
              "      <td>0.3748</td>\n",
              "      <td>0.9801</td>\n",
              "      <td>0.4148</td>\n",
              "      <td>0.9670</td>\n",
              "    </tr>\n",
              "    <tr>\n",
              "      <th>7</th>\n",
              "      <td>0.3339</td>\n",
              "      <td>0.9810</td>\n",
              "      <td>0.4716</td>\n",
              "      <td>0.9299</td>\n",
              "    </tr>\n",
              "    <tr>\n",
              "      <th>8</th>\n",
              "      <td>0.3291</td>\n",
              "      <td>0.9800</td>\n",
              "      <td>0.3209</td>\n",
              "      <td>0.9857</td>\n",
              "    </tr>\n",
              "    <tr>\n",
              "      <th>9</th>\n",
              "      <td>0.2965</td>\n",
              "      <td>0.9831</td>\n",
              "      <td>0.6499</td>\n",
              "      <td>0.9010</td>\n",
              "    </tr>\n",
              "    <tr>\n",
              "      <th>10</th>\n",
              "      <td>0.2942</td>\n",
              "      <td>0.9816</td>\n",
              "      <td>0.4763</td>\n",
              "      <td>0.9486</td>\n",
              "    </tr>\n",
              "  </tbody>\n",
              "</table>\n",
              "</div>\n",
              "      <button class=\"colab-df-convert\" onclick=\"convertToInteractive('df-a9f294be-8a0d-4134-b86c-99ff570c9e16')\"\n",
              "              title=\"Convert this dataframe to an interactive table.\"\n",
              "              style=\"display:none;\">\n",
              "        \n",
              "  <svg xmlns=\"http://www.w3.org/2000/svg\" height=\"24px\"viewBox=\"0 0 24 24\"\n",
              "       width=\"24px\">\n",
              "    <path d=\"M0 0h24v24H0V0z\" fill=\"none\"/>\n",
              "    <path d=\"M18.56 5.44l.94 2.06.94-2.06 2.06-.94-2.06-.94-.94-2.06-.94 2.06-2.06.94zm-11 1L8.5 8.5l.94-2.06 2.06-.94-2.06-.94L8.5 2.5l-.94 2.06-2.06.94zm10 10l.94 2.06.94-2.06 2.06-.94-2.06-.94-.94-2.06-.94 2.06-2.06.94z\"/><path d=\"M17.41 7.96l-1.37-1.37c-.4-.4-.92-.59-1.43-.59-.52 0-1.04.2-1.43.59L10.3 9.45l-7.72 7.72c-.78.78-.78 2.05 0 2.83L4 21.41c.39.39.9.59 1.41.59.51 0 1.02-.2 1.41-.59l7.78-7.78 2.81-2.81c.8-.78.8-2.07 0-2.86zM5.41 20L4 18.59l7.72-7.72 1.47 1.35L5.41 20z\"/>\n",
              "  </svg>\n",
              "      </button>\n",
              "      \n",
              "  <style>\n",
              "    .colab-df-container {\n",
              "      display:flex;\n",
              "      flex-wrap:wrap;\n",
              "      gap: 12px;\n",
              "    }\n",
              "\n",
              "    .colab-df-convert {\n",
              "      background-color: #E8F0FE;\n",
              "      border: none;\n",
              "      border-radius: 50%;\n",
              "      cursor: pointer;\n",
              "      display: none;\n",
              "      fill: #1967D2;\n",
              "      height: 32px;\n",
              "      padding: 0 0 0 0;\n",
              "      width: 32px;\n",
              "    }\n",
              "\n",
              "    .colab-df-convert:hover {\n",
              "      background-color: #E2EBFA;\n",
              "      box-shadow: 0px 1px 2px rgba(60, 64, 67, 0.3), 0px 1px 3px 1px rgba(60, 64, 67, 0.15);\n",
              "      fill: #174EA6;\n",
              "    }\n",
              "\n",
              "    [theme=dark] .colab-df-convert {\n",
              "      background-color: #3B4455;\n",
              "      fill: #D2E3FC;\n",
              "    }\n",
              "\n",
              "    [theme=dark] .colab-df-convert:hover {\n",
              "      background-color: #434B5C;\n",
              "      box-shadow: 0px 1px 3px 1px rgba(0, 0, 0, 0.15);\n",
              "      filter: drop-shadow(0px 1px 2px rgba(0, 0, 0, 0.3));\n",
              "      fill: #FFFFFF;\n",
              "    }\n",
              "  </style>\n",
              "\n",
              "      <script>\n",
              "        const buttonEl =\n",
              "          document.querySelector('#df-a9f294be-8a0d-4134-b86c-99ff570c9e16 button.colab-df-convert');\n",
              "        buttonEl.style.display =\n",
              "          google.colab.kernel.accessAllowed ? 'block' : 'none';\n",
              "\n",
              "        async function convertToInteractive(key) {\n",
              "          const element = document.querySelector('#df-a9f294be-8a0d-4134-b86c-99ff570c9e16');\n",
              "          const dataTable =\n",
              "            await google.colab.kernel.invokeFunction('convertToInteractive',\n",
              "                                                     [key], {});\n",
              "          if (!dataTable) return;\n",
              "\n",
              "          const docLinkHtml = 'Like what you see? Visit the ' +\n",
              "            '<a target=\"_blank\" href=https://colab.research.google.com/notebooks/data_table.ipynb>data table notebook</a>'\n",
              "            + ' to learn more about interactive tables.';\n",
              "          element.innerHTML = '';\n",
              "          dataTable['output_type'] = 'display_data';\n",
              "          await google.colab.output.renderOutput(dataTable, element);\n",
              "          const docLink = document.createElement('div');\n",
              "          docLink.innerHTML = docLinkHtml;\n",
              "          element.appendChild(docLink);\n",
              "        }\n",
              "      </script>\n",
              "    </div>\n",
              "  </div>\n",
              "  "
            ]
          },
          "metadata": {},
          "execution_count": 5
        }
      ]
    },
    {
      "cell_type": "code",
      "source": [
        "acc=df.acc.values\n",
        "val_acc=df.val_acc.values\n",
        "loss = df.loss.values\n",
        "val_loss =df.val_loss.values\n",
        "epochs_range = range(len(acc))\n",
        "\n",
        "fig=plt.figure(figsize=(12, 8))\n",
        "plt.subplot(1, 2, 1)\n",
        "plt.plot(epochs_range, acc, label='Training Accuracy')\n",
        "plt.plot(epochs_range, val_acc, label='Validation Accuracy')\n",
        "plt.legend(loc='lower right')\n",
        "plt.ylim([min(plt.ylim()),1])\n",
        "plt.grid(True)\n",
        "plt.title('Training and Validation Accuracy')\n",
        "\n",
        "plt.subplot(1, 2, 2)\n",
        "plt.plot(epochs_range, loss, label='Training Loss')\n",
        "plt.plot(epochs_range, val_loss, label='Validation Loss')\n",
        "plt.legend(loc='upper right')\n",
        "plt.grid(True)\n",
        "plt.title('Training and Validation Loss')\n",
        "plt.show()"
      ],
      "metadata": {
        "colab": {
          "base_uri": "https://localhost:8080/",
          "height": 499
        },
        "id": "sttjzeEw9aoq",
        "outputId": "874f50ca-d8bd-4096-9df7-085dbfee393a"
      },
      "execution_count": null,
      "outputs": [
        {
          "output_type": "display_data",
          "data": {
            "text/plain": [
              "<Figure size 864x576 with 2 Axes>"
            ],
            "image/png": "[encoded data removed]"
          },
          "metadata": {
            "needs_background": "light"
          }
        }
      ]
    },
    {
      "cell_type": "code",
      "source": [
        "acc=df1.acc.values\n",
        "val_acc=df1.val_acc.values\n",
        "loss = df1.loss.values\n",
        "val_loss =df1.val_loss.values\n",
        "epochs_range = range(len(acc))\n",
        "\n",
        "fig=plt.figure(figsize=(12, 8))\n",
        "plt.subplot(1, 2, 1)\n",
        "plt.plot(epochs_range, acc, label='Training Accuracy')\n",
        "plt.plot(epochs_range, val_acc, label='Validation Accuracy')\n",
        "plt.legend(loc='lower right')\n",
        "plt.ylim([min(plt.ylim()),1])\n",
        "plt.grid(True)\n",
        "plt.title('Training and Validation Accuracy')\n",
        "\n",
        "plt.subplot(1, 2, 2)\n",
        "plt.plot(epochs_range, loss, label='Training Loss')\n",
        "plt.plot(epochs_range, val_loss, label='Validation Loss')\n",
        "plt.legend(loc='upper right')\n",
        "plt.grid(True)\n",
        "plt.title('Training and Validation Loss')\n",
        "plt.show()"
      ],
      "metadata": {
        "colab": {
          "base_uri": "https://localhost:8080/",
          "height": 499
        },
        "id": "bml5C8m39_2C",
        "outputId": "f9ee396a-082d-496e-8961-dd3416e880da"
      },
      "execution_count": null,
      "outputs": [
        {
          "output_type": "display_data",
          "data": {
            "text/plain": [
              "<Figure size 864x576 with 2 Axes>"
            ],
            "image/png": "[encoded data removed]"
          },
          "metadata": {
            "needs_background": "light"
          }
        }
      ]
    },
    {
      "cell_type": "code",
      "source": [],
      "metadata": {
        "id": "ZnTcJlxQ-iSv"
      },
      "execution_count": null,
      "outputs": []
    },
    {
      "cell_type": "code",
      "source": [
        "from google.colab import drive\n",
        "drive.mount('/content/drive')"
      ],
      "metadata": {
        "colab": {
          "base_uri": "https://localhost:8080/"
        },
        "id": "7zMzU26l_KKc",
        "outputId": "7a6323bc-c88b-4f2f-a301-2a0551b2162c"
      },
      "execution_count": null,
      "outputs": [
        {
          "output_type": "stream",
          "name": "stdout",
          "text": [
            "Mounted at /content/drive\n"
          ]
        }
      ]
    },
    {
      "cell_type": "code",
      "source": [
        "df2 = pd.read_csv('/content/drive/MyDrive/297Final/submit/part-00000-d8a0e6f0-8b0f-4f9d-a81e-fde7b034bd47-c000.csv')\n",
        "df3 = pd.read_csv('/content/drive/MyDrive/297Final/submit/part-00001-d8a0e6f0-8b0f-4f9d-a81e-fde7b034bd47-c000.csv')"
      ],
      "metadata": {
        "id": "yEJqSVFn_Uml"
      },
      "execution_count": null,
      "outputs": []
    },
    {
      "cell_type": "code",
      "source": [
        "df2.columns=['predict']\n",
        "df3.columns=['predict']"
      ],
      "metadata": {
        "id": "OJH5q0Dp_l4O"
      },
      "execution_count": null,
      "outputs": []
    },
    {
      "cell_type": "code",
      "source": [
        "test=df2.append(df3)"
      ],
      "metadata": {
        "id": "cPKiEmSu_oBR"
      },
      "execution_count": null,
      "outputs": []
    },
    {
      "cell_type": "code",
      "source": [
        "test.to_csv('firssubmit.csv')"
      ],
      "metadata": {
        "colab": {
          "base_uri": "https://localhost:8080/"
        },
        "id": "CfkiO_yGAK9K",
        "outputId": "6a7cab6f-515b-41aa-db32-9b34ab9ab75a"
      },
      "execution_count": null,
      "outputs": [
        {
          "output_type": "execute_result",
          "data": {
            "text/plain": [
              "predict    0\n",
              "dtype: int64"
            ]
          },
          "metadata": {},
          "execution_count": 20
        }
      ]
    },
    {
      "cell_type": "code",
      "source": [
        "testdata=pd.read_csv('/content/drive/MyDrive/297Final/test.dat')"
      ],
      "metadata": {
        "id": "8KnvEX5VAZ-a"
      },
      "execution_count": null,
      "outputs": []
    },
    {
      "cell_type": "code",
      "source": [
        "testdata.shape"
      ],
      "metadata": {
        "colab": {
          "base_uri": "https://localhost:8080/"
        },
        "id": "mIhKZFidAsIA",
        "outputId": "b7d0b938-8f18-46b0-ff2c-46d969f4434b"
      },
      "execution_count": null,
      "outputs": [
        {
          "output_type": "execute_result",
          "data": {
            "text/plain": [
              "(2153, 1)"
            ]
          },
          "metadata": {},
          "execution_count": 22
        }
      ]
    },
    {
      "cell_type": "code",
      "source": [],
      "metadata": {
        "id": "aNagRU4_AtNd"
      },
      "execution_count": null,
      "outputs": []
    }
  ],
  "metadata": {
    "accelerator": "GPU",
    "colab": {
      "machine_shape": "hm",
      "provenance": [],
      "collapsed_sections": [
        "Ty14II8qo4Xm"
      ]
    },
    "gpuClass": "premium",
    "kernelspec": {
      "display_name": "Python 3",
      "name": "python3"
    },
    "language_info": {
      "name": "python"
    }
  },
  "nbformat": 4,
  "nbformat_minor": 0
}